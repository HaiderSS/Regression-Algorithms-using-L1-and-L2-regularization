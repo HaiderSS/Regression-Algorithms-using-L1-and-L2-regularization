{
 "cells": [
  {
   "cell_type": "markdown",
   "metadata": {},
   "source": [
    "# Imports"
   ]
  },
  {
   "cell_type": "code",
   "execution_count": 1,
   "metadata": {},
   "outputs": [],
   "source": [
    "import pandas as pd\n",
    "import numpy as np\n",
    "import matplotlib.pyplot as plt\n",
    "import math\n",
    "from sklearn.linear_model import LinearRegression\n",
    "from sklearn.preprocessing import PolynomialFeatures\n",
    "from sklearn.model_selection import train_test_split\n",
    "from sklearn.preprocessing import MinMaxScaler\n",
    "from sklearn.metrics import mean_absolute_error\n",
    "from sklearn.preprocessing import normalize\n",
    "from sklearn import preprocessing\n",
    "from sklearn import linear_model\n",
    "from sklearn.linear_model import Ridge\n",
    "from sklearn.linear_model import Lasso\n",
    "import matplotlib.pyplot as plt\n",
    "import seaborn as sns\n",
    "sns.set()\n",
    "%matplotlib inline"
   ]
  },
  {
   "cell_type": "code",
   "execution_count": 2,
   "metadata": {},
   "outputs": [],
   "source": [
    "#loading data\n",
    "data = pd.read_csv(\"dataset/train.csv\")"
   ]
  },
  {
   "cell_type": "markdown",
   "metadata": {},
   "source": [
    "# Inspecting Data"
   ]
  },
  {
   "cell_type": "code",
   "execution_count": 3,
   "metadata": {},
   "outputs": [
    {
     "data": {
      "text/plain": [
       "Index(['ID', 'TARGET_LifeExpectancy', 'Country', 'Year', 'Status',\n",
       "       'AdultMortality', 'AdultMortality-Male', 'AdultMortality-Female',\n",
       "       'InfantDeaths', 'Alcohol', 'PercentageExpenditure', 'Measles', 'BMI',\n",
       "       'UnderFiveDeaths', 'Polio', 'TotalExpenditure', 'Diphtheria',\n",
       "       'HIV-AIDS', 'GDP', 'Population', 'Thinness1-19years',\n",
       "       'Thinness5-9years', 'IncomeCompositionOfResources', 'Schooling'],\n",
       "      dtype='object')"
      ]
     },
     "execution_count": 3,
     "metadata": {},
     "output_type": "execute_result"
    }
   ],
   "source": [
    "data.columns"
   ]
  },
  {
   "cell_type": "code",
   "execution_count": 4,
   "metadata": {},
   "outputs": [
    {
     "name": "stdout",
     "output_type": "stream",
     "text": [
      "<class 'pandas.core.frame.DataFrame'>\n",
      "RangeIndex: 2071 entries, 0 to 2070\n",
      "Data columns (total 24 columns):\n",
      " #   Column                        Non-Null Count  Dtype  \n",
      "---  ------                        --------------  -----  \n",
      " 0   ID                            2071 non-null   int64  \n",
      " 1   TARGET_LifeExpectancy         2071 non-null   float64\n",
      " 2   Country                       2071 non-null   int64  \n",
      " 3   Year                          2071 non-null   int64  \n",
      " 4   Status                        2071 non-null   int64  \n",
      " 5   AdultMortality                2071 non-null   int64  \n",
      " 6   AdultMortality-Male           2071 non-null   int64  \n",
      " 7   AdultMortality-Female         2071 non-null   int64  \n",
      " 8   InfantDeaths                  2071 non-null   int64  \n",
      " 9   Alcohol                       2071 non-null   float64\n",
      " 10  PercentageExpenditure         2071 non-null   float64\n",
      " 11  Measles                       2071 non-null   int64  \n",
      " 12  BMI                           2071 non-null   float64\n",
      " 13  UnderFiveDeaths               2071 non-null   int64  \n",
      " 14  Polio                         2071 non-null   int64  \n",
      " 15  TotalExpenditure              2071 non-null   float64\n",
      " 16  Diphtheria                    2071 non-null   float64\n",
      " 17  HIV-AIDS                      2071 non-null   float64\n",
      " 18  GDP                           2071 non-null   float64\n",
      " 19  Population                    2071 non-null   int64  \n",
      " 20  Thinness1-19years             2071 non-null   float64\n",
      " 21  Thinness5-9years              2071 non-null   float64\n",
      " 22  IncomeCompositionOfResources  2071 non-null   float64\n",
      " 23  Schooling                     2071 non-null   float64\n",
      "dtypes: float64(12), int64(12)\n",
      "memory usage: 388.4 KB\n"
     ]
    }
   ],
   "source": [
    "data.info()"
   ]
  },
  {
   "cell_type": "code",
   "execution_count": 5,
   "metadata": {},
   "outputs": [
    {
     "data": {
      "text/plain": [
       "(2071, 24)"
      ]
     },
     "execution_count": 5,
     "metadata": {},
     "output_type": "execute_result"
    }
   ],
   "source": [
    "data.shape"
   ]
  },
  {
   "cell_type": "code",
   "execution_count": 6,
   "metadata": {},
   "outputs": [
    {
     "data": {
      "text/html": [
       "<div>\n",
       "<style scoped>\n",
       "    .dataframe tbody tr th:only-of-type {\n",
       "        vertical-align: middle;\n",
       "    }\n",
       "\n",
       "    .dataframe tbody tr th {\n",
       "        vertical-align: top;\n",
       "    }\n",
       "\n",
       "    .dataframe thead th {\n",
       "        text-align: right;\n",
       "    }\n",
       "</style>\n",
       "<table border=\"1\" class=\"dataframe\">\n",
       "  <thead>\n",
       "    <tr style=\"text-align: right;\">\n",
       "      <th></th>\n",
       "      <th>ID</th>\n",
       "      <th>TARGET_LifeExpectancy</th>\n",
       "      <th>Country</th>\n",
       "      <th>Year</th>\n",
       "      <th>Status</th>\n",
       "      <th>AdultMortality</th>\n",
       "      <th>AdultMortality-Male</th>\n",
       "      <th>AdultMortality-Female</th>\n",
       "      <th>InfantDeaths</th>\n",
       "      <th>Alcohol</th>\n",
       "      <th>...</th>\n",
       "      <th>Polio</th>\n",
       "      <th>TotalExpenditure</th>\n",
       "      <th>Diphtheria</th>\n",
       "      <th>HIV-AIDS</th>\n",
       "      <th>GDP</th>\n",
       "      <th>Population</th>\n",
       "      <th>Thinness1-19years</th>\n",
       "      <th>Thinness5-9years</th>\n",
       "      <th>IncomeCompositionOfResources</th>\n",
       "      <th>Schooling</th>\n",
       "    </tr>\n",
       "  </thead>\n",
       "  <tbody>\n",
       "    <tr>\n",
       "      <th>0</th>\n",
       "      <td>1</td>\n",
       "      <td>67.1</td>\n",
       "      <td>146</td>\n",
       "      <td>2017</td>\n",
       "      <td>0</td>\n",
       "      <td>263</td>\n",
       "      <td>262</td>\n",
       "      <td>264</td>\n",
       "      <td>62</td>\n",
       "      <td>0.01</td>\n",
       "      <td>...</td>\n",
       "      <td>6</td>\n",
       "      <td>8.16</td>\n",
       "      <td>65.0</td>\n",
       "      <td>0.1</td>\n",
       "      <td>654.37</td>\n",
       "      <td>33736494</td>\n",
       "      <td>17.2</td>\n",
       "      <td>17.3</td>\n",
       "      <td>0.479</td>\n",
       "      <td>3.178050</td>\n",
       "    </tr>\n",
       "    <tr>\n",
       "      <th>1</th>\n",
       "      <td>2</td>\n",
       "      <td>59.8</td>\n",
       "      <td>146</td>\n",
       "      <td>2016</td>\n",
       "      <td>0</td>\n",
       "      <td>271</td>\n",
       "      <td>278</td>\n",
       "      <td>264</td>\n",
       "      <td>64</td>\n",
       "      <td>0.01</td>\n",
       "      <td>...</td>\n",
       "      <td>58</td>\n",
       "      <td>8.18</td>\n",
       "      <td>62.0</td>\n",
       "      <td>0.1</td>\n",
       "      <td>686.22</td>\n",
       "      <td>327582</td>\n",
       "      <td>17.5</td>\n",
       "      <td>17.5</td>\n",
       "      <td>0.476</td>\n",
       "      <td>3.162278</td>\n",
       "    </tr>\n",
       "    <tr>\n",
       "      <th>2</th>\n",
       "      <td>3</td>\n",
       "      <td>57.6</td>\n",
       "      <td>146</td>\n",
       "      <td>2015</td>\n",
       "      <td>0</td>\n",
       "      <td>268</td>\n",
       "      <td>246</td>\n",
       "      <td>290</td>\n",
       "      <td>66</td>\n",
       "      <td>0.01</td>\n",
       "      <td>...</td>\n",
       "      <td>62</td>\n",
       "      <td>8.13</td>\n",
       "      <td>64.0</td>\n",
       "      <td>0.1</td>\n",
       "      <td>707.55</td>\n",
       "      <td>31731688</td>\n",
       "      <td>17.7</td>\n",
       "      <td>17.7</td>\n",
       "      <td>0.470</td>\n",
       "      <td>3.146427</td>\n",
       "    </tr>\n",
       "    <tr>\n",
       "      <th>3</th>\n",
       "      <td>4</td>\n",
       "      <td>55.5</td>\n",
       "      <td>146</td>\n",
       "      <td>2014</td>\n",
       "      <td>0</td>\n",
       "      <td>272</td>\n",
       "      <td>248</td>\n",
       "      <td>296</td>\n",
       "      <td>69</td>\n",
       "      <td>0.01</td>\n",
       "      <td>...</td>\n",
       "      <td>67</td>\n",
       "      <td>8.52</td>\n",
       "      <td>67.0</td>\n",
       "      <td>0.1</td>\n",
       "      <td>750.35</td>\n",
       "      <td>3696958</td>\n",
       "      <td>17.9</td>\n",
       "      <td>18.0</td>\n",
       "      <td>0.463</td>\n",
       "      <td>3.130495</td>\n",
       "    </tr>\n",
       "    <tr>\n",
       "      <th>4</th>\n",
       "      <td>5</td>\n",
       "      <td>57.7</td>\n",
       "      <td>146</td>\n",
       "      <td>2013</td>\n",
       "      <td>0</td>\n",
       "      <td>275</td>\n",
       "      <td>278</td>\n",
       "      <td>272</td>\n",
       "      <td>71</td>\n",
       "      <td>0.01</td>\n",
       "      <td>...</td>\n",
       "      <td>68</td>\n",
       "      <td>7.87</td>\n",
       "      <td>68.0</td>\n",
       "      <td>0.1</td>\n",
       "      <td>71.16</td>\n",
       "      <td>2978599</td>\n",
       "      <td>18.2</td>\n",
       "      <td>18.2</td>\n",
       "      <td>0.454</td>\n",
       "      <td>3.082207</td>\n",
       "    </tr>\n",
       "    <tr>\n",
       "      <th>...</th>\n",
       "      <td>...</td>\n",
       "      <td>...</td>\n",
       "      <td>...</td>\n",
       "      <td>...</td>\n",
       "      <td>...</td>\n",
       "      <td>...</td>\n",
       "      <td>...</td>\n",
       "      <td>...</td>\n",
       "      <td>...</td>\n",
       "      <td>...</td>\n",
       "      <td>...</td>\n",
       "      <td>...</td>\n",
       "      <td>...</td>\n",
       "      <td>...</td>\n",
       "      <td>...</td>\n",
       "      <td>...</td>\n",
       "      <td>...</td>\n",
       "      <td>...</td>\n",
       "      <td>...</td>\n",
       "      <td>...</td>\n",
       "      <td>...</td>\n",
       "    </tr>\n",
       "    <tr>\n",
       "      <th>2066</th>\n",
       "      <td>2067</td>\n",
       "      <td>47.7</td>\n",
       "      <td>61</td>\n",
       "      <td>2006</td>\n",
       "      <td>0</td>\n",
       "      <td>578</td>\n",
       "      <td>596</td>\n",
       "      <td>560</td>\n",
       "      <td>36</td>\n",
       "      <td>2.46</td>\n",
       "      <td>...</td>\n",
       "      <td>84</td>\n",
       "      <td>7.33</td>\n",
       "      <td>83.0</td>\n",
       "      <td>17.6</td>\n",
       "      <td>59.67</td>\n",
       "      <td>11731746</td>\n",
       "      <td>7.2</td>\n",
       "      <td>7.1</td>\n",
       "      <td>0.456</td>\n",
       "      <td>3.240370</td>\n",
       "    </tr>\n",
       "    <tr>\n",
       "      <th>2067</th>\n",
       "      <td>2068</td>\n",
       "      <td>46.0</td>\n",
       "      <td>61</td>\n",
       "      <td>2005</td>\n",
       "      <td>0</td>\n",
       "      <td>64</td>\n",
       "      <td>66</td>\n",
       "      <td>62</td>\n",
       "      <td>39</td>\n",
       "      <td>2.33</td>\n",
       "      <td>...</td>\n",
       "      <td>85</td>\n",
       "      <td>8.18</td>\n",
       "      <td>83.0</td>\n",
       "      <td>18.2</td>\n",
       "      <td>480.66</td>\n",
       "      <td>11421984</td>\n",
       "      <td>7.3</td>\n",
       "      <td>7.2</td>\n",
       "      <td>0.443</td>\n",
       "      <td>3.193744</td>\n",
       "    </tr>\n",
       "    <tr>\n",
       "      <th>2068</th>\n",
       "      <td>2069</td>\n",
       "      <td>46.2</td>\n",
       "      <td>61</td>\n",
       "      <td>2004</td>\n",
       "      <td>0</td>\n",
       "      <td>69</td>\n",
       "      <td>70</td>\n",
       "      <td>68</td>\n",
       "      <td>41</td>\n",
       "      <td>2.44</td>\n",
       "      <td>...</td>\n",
       "      <td>85</td>\n",
       "      <td>6.93</td>\n",
       "      <td>84.0</td>\n",
       "      <td>18.4</td>\n",
       "      <td>422.39</td>\n",
       "      <td>111249</td>\n",
       "      <td>7.4</td>\n",
       "      <td>7.3</td>\n",
       "      <td>0.433</td>\n",
       "      <td>3.162278</td>\n",
       "    </tr>\n",
       "    <tr>\n",
       "      <th>2069</th>\n",
       "      <td>2070</td>\n",
       "      <td>47.1</td>\n",
       "      <td>61</td>\n",
       "      <td>2003</td>\n",
       "      <td>0</td>\n",
       "      <td>611</td>\n",
       "      <td>574</td>\n",
       "      <td>648</td>\n",
       "      <td>43</td>\n",
       "      <td>2.61</td>\n",
       "      <td>...</td>\n",
       "      <td>86</td>\n",
       "      <td>6.56</td>\n",
       "      <td>85.0</td>\n",
       "      <td>18.6</td>\n",
       "      <td>423.67</td>\n",
       "      <td>1824125</td>\n",
       "      <td>7.4</td>\n",
       "      <td>7.4</td>\n",
       "      <td>0.424</td>\n",
       "      <td>3.130495</td>\n",
       "    </tr>\n",
       "    <tr>\n",
       "      <th>2070</th>\n",
       "      <td>2071</td>\n",
       "      <td>41.1</td>\n",
       "      <td>61</td>\n",
       "      <td>2002</td>\n",
       "      <td>0</td>\n",
       "      <td>614</td>\n",
       "      <td>574</td>\n",
       "      <td>654</td>\n",
       "      <td>44</td>\n",
       "      <td>2.62</td>\n",
       "      <td>...</td>\n",
       "      <td>85</td>\n",
       "      <td>7.16</td>\n",
       "      <td>85.0</td>\n",
       "      <td>18.7</td>\n",
       "      <td>382.99</td>\n",
       "      <td>1531221</td>\n",
       "      <td>7.5</td>\n",
       "      <td>7.5</td>\n",
       "      <td>0.418</td>\n",
       "      <td>3.098387</td>\n",
       "    </tr>\n",
       "  </tbody>\n",
       "</table>\n",
       "<p>2071 rows × 24 columns</p>\n",
       "</div>"
      ],
      "text/plain": [
       "        ID  TARGET_LifeExpectancy  Country  Year  Status  AdultMortality  \\\n",
       "0        1                   67.1      146  2017       0             263   \n",
       "1        2                   59.8      146  2016       0             271   \n",
       "2        3                   57.6      146  2015       0             268   \n",
       "3        4                   55.5      146  2014       0             272   \n",
       "4        5                   57.7      146  2013       0             275   \n",
       "...    ...                    ...      ...   ...     ...             ...   \n",
       "2066  2067                   47.7       61  2006       0             578   \n",
       "2067  2068                   46.0       61  2005       0              64   \n",
       "2068  2069                   46.2       61  2004       0              69   \n",
       "2069  2070                   47.1       61  2003       0             611   \n",
       "2070  2071                   41.1       61  2002       0             614   \n",
       "\n",
       "      AdultMortality-Male  AdultMortality-Female  InfantDeaths  Alcohol  ...  \\\n",
       "0                     262                    264            62     0.01  ...   \n",
       "1                     278                    264            64     0.01  ...   \n",
       "2                     246                    290            66     0.01  ...   \n",
       "3                     248                    296            69     0.01  ...   \n",
       "4                     278                    272            71     0.01  ...   \n",
       "...                   ...                    ...           ...      ...  ...   \n",
       "2066                  596                    560            36     2.46  ...   \n",
       "2067                   66                     62            39     2.33  ...   \n",
       "2068                   70                     68            41     2.44  ...   \n",
       "2069                  574                    648            43     2.61  ...   \n",
       "2070                  574                    654            44     2.62  ...   \n",
       "\n",
       "      Polio  TotalExpenditure  Diphtheria  HIV-AIDS     GDP  Population  \\\n",
       "0         6              8.16        65.0       0.1  654.37    33736494   \n",
       "1        58              8.18        62.0       0.1  686.22      327582   \n",
       "2        62              8.13        64.0       0.1  707.55    31731688   \n",
       "3        67              8.52        67.0       0.1  750.35     3696958   \n",
       "4        68              7.87        68.0       0.1   71.16     2978599   \n",
       "...     ...               ...         ...       ...     ...         ...   \n",
       "2066     84              7.33        83.0      17.6   59.67    11731746   \n",
       "2067     85              8.18        83.0      18.2  480.66    11421984   \n",
       "2068     85              6.93        84.0      18.4  422.39      111249   \n",
       "2069     86              6.56        85.0      18.6  423.67     1824125   \n",
       "2070     85              7.16        85.0      18.7  382.99     1531221   \n",
       "\n",
       "      Thinness1-19years  Thinness5-9years  IncomeCompositionOfResources  \\\n",
       "0                  17.2              17.3                         0.479   \n",
       "1                  17.5              17.5                         0.476   \n",
       "2                  17.7              17.7                         0.470   \n",
       "3                  17.9              18.0                         0.463   \n",
       "4                  18.2              18.2                         0.454   \n",
       "...                 ...               ...                           ...   \n",
       "2066                7.2               7.1                         0.456   \n",
       "2067                7.3               7.2                         0.443   \n",
       "2068                7.4               7.3                         0.433   \n",
       "2069                7.4               7.4                         0.424   \n",
       "2070                7.5               7.5                         0.418   \n",
       "\n",
       "      Schooling  \n",
       "0      3.178050  \n",
       "1      3.162278  \n",
       "2      3.146427  \n",
       "3      3.130495  \n",
       "4      3.082207  \n",
       "...         ...  \n",
       "2066   3.240370  \n",
       "2067   3.193744  \n",
       "2068   3.162278  \n",
       "2069   3.130495  \n",
       "2070   3.098387  \n",
       "\n",
       "[2071 rows x 24 columns]"
      ]
     },
     "execution_count": 6,
     "metadata": {},
     "output_type": "execute_result"
    }
   ],
   "source": [
    "data"
   ]
  },
  {
   "cell_type": "code",
   "execution_count": 7,
   "metadata": {},
   "outputs": [
    {
     "data": {
      "text/html": [
       "<div>\n",
       "<style scoped>\n",
       "    .dataframe tbody tr th:only-of-type {\n",
       "        vertical-align: middle;\n",
       "    }\n",
       "\n",
       "    .dataframe tbody tr th {\n",
       "        vertical-align: top;\n",
       "    }\n",
       "\n",
       "    .dataframe thead th {\n",
       "        text-align: right;\n",
       "    }\n",
       "</style>\n",
       "<table border=\"1\" class=\"dataframe\">\n",
       "  <thead>\n",
       "    <tr style=\"text-align: right;\">\n",
       "      <th></th>\n",
       "      <th>ID</th>\n",
       "      <th>TARGET_LifeExpectancy</th>\n",
       "      <th>Country</th>\n",
       "      <th>Year</th>\n",
       "      <th>Status</th>\n",
       "      <th>AdultMortality</th>\n",
       "      <th>AdultMortality-Male</th>\n",
       "      <th>AdultMortality-Female</th>\n",
       "      <th>InfantDeaths</th>\n",
       "      <th>Alcohol</th>\n",
       "      <th>...</th>\n",
       "      <th>Polio</th>\n",
       "      <th>TotalExpenditure</th>\n",
       "      <th>Diphtheria</th>\n",
       "      <th>HIV-AIDS</th>\n",
       "      <th>GDP</th>\n",
       "      <th>Population</th>\n",
       "      <th>Thinness1-19years</th>\n",
       "      <th>Thinness5-9years</th>\n",
       "      <th>IncomeCompositionOfResources</th>\n",
       "      <th>Schooling</th>\n",
       "    </tr>\n",
       "  </thead>\n",
       "  <tbody>\n",
       "    <tr>\n",
       "      <th>count</th>\n",
       "      <td>2071.000000</td>\n",
       "      <td>2071.000000</td>\n",
       "      <td>2071.000000</td>\n",
       "      <td>2071.000000</td>\n",
       "      <td>2071.000000</td>\n",
       "      <td>2071.000000</td>\n",
       "      <td>2071.000000</td>\n",
       "      <td>2071.000000</td>\n",
       "      <td>2071.000000</td>\n",
       "      <td>2071.000000</td>\n",
       "      <td>...</td>\n",
       "      <td>2071.000000</td>\n",
       "      <td>2071.000000</td>\n",
       "      <td>2071.000000</td>\n",
       "      <td>2071.000000</td>\n",
       "      <td>2071.000000</td>\n",
       "      <td>2.071000e+03</td>\n",
       "      <td>2071.000000</td>\n",
       "      <td>2071.000000</td>\n",
       "      <td>2071.000000</td>\n",
       "      <td>2071.000000</td>\n",
       "    </tr>\n",
       "    <tr>\n",
       "      <th>mean</th>\n",
       "      <td>1036.000000</td>\n",
       "      <td>69.274505</td>\n",
       "      <td>95.360212</td>\n",
       "      <td>2009.518590</td>\n",
       "      <td>0.185418</td>\n",
       "      <td>162.833897</td>\n",
       "      <td>161.908257</td>\n",
       "      <td>163.759536</td>\n",
       "      <td>33.079672</td>\n",
       "      <td>4.696379</td>\n",
       "      <td>...</td>\n",
       "      <td>82.727185</td>\n",
       "      <td>5.883858</td>\n",
       "      <td>82.753259</td>\n",
       "      <td>1.632883</td>\n",
       "      <td>7352.742342</td>\n",
       "      <td>1.203741e+07</td>\n",
       "      <td>4.941284</td>\n",
       "      <td>4.977306</td>\n",
       "      <td>0.609551</td>\n",
       "      <td>3.372453</td>\n",
       "    </tr>\n",
       "    <tr>\n",
       "      <th>std</th>\n",
       "      <td>597.990524</td>\n",
       "      <td>9.482281</td>\n",
       "      <td>54.861641</td>\n",
       "      <td>4.614147</td>\n",
       "      <td>0.388730</td>\n",
       "      <td>118.872170</td>\n",
       "      <td>119.442235</td>\n",
       "      <td>118.800292</td>\n",
       "      <td>135.832868</td>\n",
       "      <td>4.205888</td>\n",
       "      <td>...</td>\n",
       "      <td>23.188837</td>\n",
       "      <td>2.554965</td>\n",
       "      <td>23.130969</td>\n",
       "      <td>4.782325</td>\n",
       "      <td>15219.978663</td>\n",
       "      <td>6.391797e+07</td>\n",
       "      <td>4.697830</td>\n",
       "      <td>4.785532</td>\n",
       "      <td>0.216532</td>\n",
       "      <td>0.590832</td>\n",
       "    </tr>\n",
       "    <tr>\n",
       "      <th>min</th>\n",
       "      <td>1.000000</td>\n",
       "      <td>37.300000</td>\n",
       "      <td>0.000000</td>\n",
       "      <td>2002.000000</td>\n",
       "      <td>0.000000</td>\n",
       "      <td>1.000000</td>\n",
       "      <td>0.000000</td>\n",
       "      <td>2.000000</td>\n",
       "      <td>0.000000</td>\n",
       "      <td>0.010000</td>\n",
       "      <td>...</td>\n",
       "      <td>3.000000</td>\n",
       "      <td>0.370000</td>\n",
       "      <td>2.000000</td>\n",
       "      <td>0.100000</td>\n",
       "      <td>1.880000</td>\n",
       "      <td>3.400000e+01</td>\n",
       "      <td>0.100000</td>\n",
       "      <td>0.100000</td>\n",
       "      <td>0.000000</td>\n",
       "      <td>0.000000</td>\n",
       "    </tr>\n",
       "    <tr>\n",
       "      <th>25%</th>\n",
       "      <td>518.500000</td>\n",
       "      <td>63.000000</td>\n",
       "      <td>50.000000</td>\n",
       "      <td>2006.000000</td>\n",
       "      <td>0.000000</td>\n",
       "      <td>74.000000</td>\n",
       "      <td>74.000000</td>\n",
       "      <td>74.000000</td>\n",
       "      <td>0.000000</td>\n",
       "      <td>0.615000</td>\n",
       "      <td>...</td>\n",
       "      <td>77.000000</td>\n",
       "      <td>4.190000</td>\n",
       "      <td>78.000000</td>\n",
       "      <td>0.100000</td>\n",
       "      <td>413.730000</td>\n",
       "      <td>1.274450e+05</td>\n",
       "      <td>1.600000</td>\n",
       "      <td>1.500000</td>\n",
       "      <td>0.463000</td>\n",
       "      <td>3.065942</td>\n",
       "    </tr>\n",
       "    <tr>\n",
       "      <th>50%</th>\n",
       "      <td>1036.000000</td>\n",
       "      <td>71.200000</td>\n",
       "      <td>94.000000</td>\n",
       "      <td>2010.000000</td>\n",
       "      <td>0.000000</td>\n",
       "      <td>144.000000</td>\n",
       "      <td>142.000000</td>\n",
       "      <td>144.000000</td>\n",
       "      <td>3.000000</td>\n",
       "      <td>3.830000</td>\n",
       "      <td>...</td>\n",
       "      <td>93.000000</td>\n",
       "      <td>5.640000</td>\n",
       "      <td>93.000000</td>\n",
       "      <td>0.100000</td>\n",
       "      <td>1410.670000</td>\n",
       "      <td>6.522310e+05</td>\n",
       "      <td>3.200000</td>\n",
       "      <td>3.300000</td>\n",
       "      <td>0.655000</td>\n",
       "      <td>3.449638</td>\n",
       "    </tr>\n",
       "    <tr>\n",
       "      <th>75%</th>\n",
       "      <td>1553.500000</td>\n",
       "      <td>76.000000</td>\n",
       "      <td>144.000000</td>\n",
       "      <td>2014.000000</td>\n",
       "      <td>0.000000</td>\n",
       "      <td>228.000000</td>\n",
       "      <td>228.000000</td>\n",
       "      <td>230.000000</td>\n",
       "      <td>22.000000</td>\n",
       "      <td>7.840000</td>\n",
       "      <td>...</td>\n",
       "      <td>97.000000</td>\n",
       "      <td>7.430000</td>\n",
       "      <td>97.000000</td>\n",
       "      <td>0.800000</td>\n",
       "      <td>5811.295000</td>\n",
       "      <td>5.371104e+06</td>\n",
       "      <td>7.400000</td>\n",
       "      <td>7.400000</td>\n",
       "      <td>0.769500</td>\n",
       "      <td>3.741657</td>\n",
       "    </tr>\n",
       "    <tr>\n",
       "      <th>max</th>\n",
       "      <td>2071.000000</td>\n",
       "      <td>92.700000</td>\n",
       "      <td>192.000000</td>\n",
       "      <td>2017.000000</td>\n",
       "      <td>1.000000</td>\n",
       "      <td>699.000000</td>\n",
       "      <td>704.000000</td>\n",
       "      <td>722.000000</td>\n",
       "      <td>1800.000000</td>\n",
       "      <td>17.870000</td>\n",
       "      <td>...</td>\n",
       "      <td>99.000000</td>\n",
       "      <td>17.600000</td>\n",
       "      <td>99.000000</td>\n",
       "      <td>50.600000</td>\n",
       "      <td>133473.470000</td>\n",
       "      <td>1.293859e+09</td>\n",
       "      <td>27.700000</td>\n",
       "      <td>28.600000</td>\n",
       "      <td>0.948000</td>\n",
       "      <td>4.381780</td>\n",
       "    </tr>\n",
       "  </tbody>\n",
       "</table>\n",
       "<p>8 rows × 24 columns</p>\n",
       "</div>"
      ],
      "text/plain": [
       "                ID  TARGET_LifeExpectancy      Country         Year  \\\n",
       "count  2071.000000            2071.000000  2071.000000  2071.000000   \n",
       "mean   1036.000000              69.274505    95.360212  2009.518590   \n",
       "std     597.990524               9.482281    54.861641     4.614147   \n",
       "min       1.000000              37.300000     0.000000  2002.000000   \n",
       "25%     518.500000              63.000000    50.000000  2006.000000   \n",
       "50%    1036.000000              71.200000    94.000000  2010.000000   \n",
       "75%    1553.500000              76.000000   144.000000  2014.000000   \n",
       "max    2071.000000              92.700000   192.000000  2017.000000   \n",
       "\n",
       "            Status  AdultMortality  AdultMortality-Male  \\\n",
       "count  2071.000000     2071.000000          2071.000000   \n",
       "mean      0.185418      162.833897           161.908257   \n",
       "std       0.388730      118.872170           119.442235   \n",
       "min       0.000000        1.000000             0.000000   \n",
       "25%       0.000000       74.000000            74.000000   \n",
       "50%       0.000000      144.000000           142.000000   \n",
       "75%       0.000000      228.000000           228.000000   \n",
       "max       1.000000      699.000000           704.000000   \n",
       "\n",
       "       AdultMortality-Female  InfantDeaths      Alcohol  ...        Polio  \\\n",
       "count            2071.000000   2071.000000  2071.000000  ...  2071.000000   \n",
       "mean              163.759536     33.079672     4.696379  ...    82.727185   \n",
       "std               118.800292    135.832868     4.205888  ...    23.188837   \n",
       "min                 2.000000      0.000000     0.010000  ...     3.000000   \n",
       "25%                74.000000      0.000000     0.615000  ...    77.000000   \n",
       "50%               144.000000      3.000000     3.830000  ...    93.000000   \n",
       "75%               230.000000     22.000000     7.840000  ...    97.000000   \n",
       "max               722.000000   1800.000000    17.870000  ...    99.000000   \n",
       "\n",
       "       TotalExpenditure   Diphtheria     HIV-AIDS            GDP  \\\n",
       "count       2071.000000  2071.000000  2071.000000    2071.000000   \n",
       "mean           5.883858    82.753259     1.632883    7352.742342   \n",
       "std            2.554965    23.130969     4.782325   15219.978663   \n",
       "min            0.370000     2.000000     0.100000       1.880000   \n",
       "25%            4.190000    78.000000     0.100000     413.730000   \n",
       "50%            5.640000    93.000000     0.100000    1410.670000   \n",
       "75%            7.430000    97.000000     0.800000    5811.295000   \n",
       "max           17.600000    99.000000    50.600000  133473.470000   \n",
       "\n",
       "         Population  Thinness1-19years  Thinness5-9years  \\\n",
       "count  2.071000e+03        2071.000000       2071.000000   \n",
       "mean   1.203741e+07           4.941284          4.977306   \n",
       "std    6.391797e+07           4.697830          4.785532   \n",
       "min    3.400000e+01           0.100000          0.100000   \n",
       "25%    1.274450e+05           1.600000          1.500000   \n",
       "50%    6.522310e+05           3.200000          3.300000   \n",
       "75%    5.371104e+06           7.400000          7.400000   \n",
       "max    1.293859e+09          27.700000         28.600000   \n",
       "\n",
       "       IncomeCompositionOfResources    Schooling  \n",
       "count                   2071.000000  2071.000000  \n",
       "mean                       0.609551     3.372453  \n",
       "std                        0.216532     0.590832  \n",
       "min                        0.000000     0.000000  \n",
       "25%                        0.463000     3.065942  \n",
       "50%                        0.655000     3.449638  \n",
       "75%                        0.769500     3.741657  \n",
       "max                        0.948000     4.381780  \n",
       "\n",
       "[8 rows x 24 columns]"
      ]
     },
     "execution_count": 7,
     "metadata": {},
     "output_type": "execute_result"
    }
   ],
   "source": [
    "data.describe()"
   ]
  },
  {
   "cell_type": "code",
   "execution_count": 8,
   "metadata": {},
   "outputs": [
    {
     "data": {
      "text/plain": [
       "ID                              0\n",
       "TARGET_LifeExpectancy           0\n",
       "Country                         0\n",
       "Year                            0\n",
       "Status                          0\n",
       "AdultMortality                  0\n",
       "AdultMortality-Male             0\n",
       "AdultMortality-Female           0\n",
       "InfantDeaths                    0\n",
       "Alcohol                         0\n",
       "PercentageExpenditure           0\n",
       "Measles                         0\n",
       "BMI                             0\n",
       "UnderFiveDeaths                 0\n",
       "Polio                           0\n",
       "TotalExpenditure                0\n",
       "Diphtheria                      0\n",
       "HIV-AIDS                        0\n",
       "GDP                             0\n",
       "Population                      0\n",
       "Thinness1-19years               0\n",
       "Thinness5-9years                0\n",
       "IncomeCompositionOfResources    0\n",
       "Schooling                       0\n",
       "dtype: int64"
      ]
     },
     "execution_count": 8,
     "metadata": {},
     "output_type": "execute_result"
    }
   ],
   "source": [
    "data.isnull().sum()"
   ]
  },
  {
   "cell_type": "markdown",
   "metadata": {},
   "source": [
    "# Detecting outliers "
   ]
  },
  {
   "cell_type": "code",
   "execution_count": 9,
   "metadata": {},
   "outputs": [
    {
     "data": {
      "image/png": "[encoded data removed]",
      "text/plain": [
       "<Figure size 432x288 with 1 Axes>"
      ]
     },
     "metadata": {
      "needs_background": "light"
     },
     "output_type": "display_data"
    },
    {
     "data": {
      "image/png": "[encoded data removed]",
      "text/plain": [
       "<Figure size 432x288 with 1 Axes>"
      ]
     },
     "metadata": {
      "needs_background": "light"
     },
     "output_type": "display_data"
    },
    {
     "data": {
      "image/png": "[encoded data removed]",
      "text/plain": [
       "<Figure size 432x288 with 1 Axes>"
      ]
     },
     "metadata": {
      "needs_background": "light"
     },
     "output_type": "display_data"
    },
    {
     "data": {
      "image/png": "[encoded data removed]",
      "text/plain": [
       "<Figure size 432x288 with 1 Axes>"
      ]
     },
     "metadata": {
      "needs_background": "light"
     },
     "output_type": "display_data"
    },
    {
     "data": {
      "image/png": "[encoded data removed]",
      "text/plain": [
       "<Figure size 432x288 with 1 Axes>"
      ]
     },
     "metadata": {
      "needs_background": "light"
     },
     "output_type": "display_data"
    },
    {
     "data": {
      "image/png": "[encoded data removed]",
      "text/plain": [
       "<Figure size 432x288 with 1 Axes>"
      ]
     },
     "metadata": {
      "needs_background": "light"
     },
     "output_type": "display_data"
    },
    {
     "data": {
      "image/png": "[encoded data removed]",
      "text/plain": [
       "<Figure size 432x288 with 1 Axes>"
      ]
     },
     "metadata": {
      "needs_background": "light"
     },
     "output_type": "display_data"
    },
    {
     "data": {
      "image/png": "[encoded data removed]",
      "text/plain": [
       "<Figure size 432x288 with 1 Axes>"
      ]
     },
     "metadata": {
      "needs_background": "light"
     },
     "output_type": "display_data"
    },
    {
     "data": {
      "image/png": "[encoded data removed]",
      "text/plain": [
       "<Figure size 432x288 with 1 Axes>"
      ]
     },
     "metadata": {
      "needs_background": "light"
     },
     "output_type": "display_data"
    },
    {
     "data": {
      "image/png": "[encoded data removed]",
      "text/plain": [
       "<Figure size 432x288 with 1 Axes>"
      ]
     },
     "metadata": {
      "needs_background": "light"
     },
     "output_type": "display_data"
    },
    {
     "data": {
      "image/png": "[encoded data removed]",
      "text/plain": [
       "<Figure size 432x288 with 1 Axes>"
      ]
     },
     "metadata": {
      "needs_background": "light"
     },
     "output_type": "display_data"
    },
    {
     "data": {
      "image/png": "[encoded data removed]",
      "text/plain": [
       "<Figure size 432x288 with 1 Axes>"
      ]
     },
     "metadata": {
      "needs_background": "light"
     },
     "output_type": "display_data"
    },
    {
     "data": {
      "image/png": "[encoded data removed]",
      "text/plain": [
       "<Figure size 432x288 with 1 Axes>"
      ]
     },
     "metadata": {
      "needs_background": "light"
     },
     "output_type": "display_data"
    },
    {
     "data": {
      "image/png": "[encoded data removed]",
      "text/plain": [
       "<Figure size 432x288 with 1 Axes>"
      ]
     },
     "metadata": {
      "needs_background": "light"
     },
     "output_type": "display_data"
    },
    {
     "data": {
      "image/png": "[encoded data removed]",
      "text/plain": [
       "<Figure size 432x288 with 1 Axes>"
      ]
     },
     "metadata": {
      "needs_background": "light"
     },
     "output_type": "display_data"
    },
    {
     "data": {
      "image/png": "[encoded data removed]",
      "text/plain": [
       "<Figure size 432x288 with 1 Axes>"
      ]
     },
     "metadata": {
      "needs_background": "light"
     },
     "output_type": "display_data"
    },
    {
     "data": {
      "image/png": "[encoded data removed]",
      "text/plain": [
       "<Figure size 432x288 with 1 Axes>"
      ]
     },
     "metadata": {
      "needs_background": "light"
     },
     "output_type": "display_data"
    },
    {
     "data": {
      "image/png": "[encoded data removed]",
      "text/plain": [
       "<Figure size 432x288 with 1 Axes>"
      ]
     },
     "metadata": {
      "needs_background": "light"
     },
     "output_type": "display_data"
    },
    {
     "data": {
      "image/png": "[encoded data removed]",
      "text/plain": [
       "<Figure size 432x288 with 1 Axes>"
      ]
     },
     "metadata": {
      "needs_background": "light"
     },
     "output_type": "display_data"
    },
    {
     "data": {
      "image/png": "[encoded data removed]",
      "text/plain": [
       "<Figure size 432x288 with 1 Axes>"
      ]
     },
     "metadata": {
      "needs_background": "light"
     },
     "output_type": "display_data"
    },
    {
     "data": {
      "image/png": "[encoded data removed]",
      "text/plain": [
       "<Figure size 432x288 with 1 Axes>"
      ]
     },
     "metadata": {
      "needs_background": "light"
     },
     "output_type": "display_data"
    },
    {
     "data": {
      "image/png": "[encoded data removed]",
      "text/plain": [
       "<Figure size 432x288 with 1 Axes>"
      ]
     },
     "metadata": {
      "needs_background": "light"
     },
     "output_type": "display_data"
    },
    {
     "data": {
      "image/png": "[encoded data removed]",
      "text/plain": [
       "<Figure size 432x288 with 1 Axes>"
      ]
     },
     "metadata": {
      "needs_background": "light"
     },
     "output_type": "display_data"
    },
    {
     "data": {
      "image/png": "[encoded data removed]",
      "text/plain": [
       "<Figure size 432x288 with 1 Axes>"
      ]
     },
     "metadata": {
      "needs_background": "light"
     },
     "output_type": "display_data"
    }
   ],
   "source": [
    "# detecting outliers through boxplot\n",
    "for i in data.columns:\n",
    "    plt.boxplot(data[i])\n",
    "    plt.xlabel(i)\n",
    "    plt.show()"
   ]
  },
  {
   "cell_type": "markdown",
   "metadata": {},
   "source": [
    "# Seperating input and output features"
   ]
  },
  {
   "cell_type": "code",
   "execution_count": 10,
   "metadata": {},
   "outputs": [],
   "source": [
    "# features on which we are going to train our data\n",
    "dataX = data.iloc[:,2:]"
   ]
  },
  {
   "cell_type": "code",
   "execution_count": 11,
   "metadata": {},
   "outputs": [],
   "source": [
    "# expected outout feature\n",
    "dataY = data['TARGET_LifeExpectancy']"
   ]
  },
  {
   "cell_type": "code",
   "execution_count": 12,
   "metadata": {},
   "outputs": [
    {
     "name": "stdout",
     "output_type": "stream",
     "text": [
      "(2071, 22)\n",
      "(2071,)\n"
     ]
    }
   ],
   "source": [
    "print(dataX.shape)\n",
    "print(dataY.shape)"
   ]
  },
  {
   "cell_type": "markdown",
   "metadata": {},
   "source": [
    "# Train and Test set split"
   ]
  },
  {
   "cell_type": "code",
   "execution_count": 13,
   "metadata": {},
   "outputs": [],
   "source": [
    "X_train, X_test, y_train, y_test = train_test_split(dataX, dataY, test_size=0.30, random_state=42)"
   ]
  },
  {
   "cell_type": "markdown",
   "metadata": {},
   "source": [
    "# Standardisation"
   ]
  },
  {
   "cell_type": "code",
   "execution_count": 14,
   "metadata": {},
   "outputs": [],
   "source": [
    "standard_scaler = preprocessing.StandardScaler()\n",
    "X_train = standard_scaler.fit_transform(X_train)\n",
    "X_test = standard_scaler.transform(X_test)"
   ]
  },
  {
   "cell_type": "code",
   "execution_count": 15,
   "metadata": {},
   "outputs": [
    {
     "data": {
      "text/plain": [
       "<matplotlib.axes._subplots.AxesSubplot at 0x1a201f0250>"
      ]
     },
     "execution_count": 15,
     "metadata": {},
     "output_type": "execute_result"
    },
    {
     "data": {
      "image/png": "[encoded data removed]",
      "text/plain": [
       "<Figure size 432x288 with 1 Axes>"
      ]
     },
     "metadata": {
      "needs_background": "light"
     },
     "output_type": "display_data"
    }
   ],
   "source": [
    "X_train = pd.DataFrame(X_train)\n",
    "X_train.boxplot()"
   ]
  },
  {
   "cell_type": "markdown",
   "metadata": {},
   "source": [
    "# Linear regression"
   ]
  },
  {
   "cell_type": "code",
   "execution_count": 16,
   "metadata": {},
   "outputs": [],
   "source": [
    "# creating and training a linear regression model\n",
    "model = LinearRegression().fit(X_train,y_train)"
   ]
  },
  {
   "cell_type": "code",
   "execution_count": 17,
   "metadata": {},
   "outputs": [
    {
     "name": "stdout",
     "output_type": "stream",
     "text": [
      "Training score: 0.7653541168810418\n",
      "Test score: 0.73206759648337\n"
     ]
    }
   ],
   "source": [
    "print('Training score: {}'.format(model.score(X_train, y_train)))\n",
    "print('Test score: {}'.format(model.score(X_test, y_test)))"
   ]
  },
  {
   "cell_type": "code",
   "execution_count": 18,
   "metadata": {},
   "outputs": [],
   "source": [
    "predicted = model.predict(X_test)"
   ]
  },
  {
   "cell_type": "code",
   "execution_count": 19,
   "metadata": {},
   "outputs": [],
   "source": [
    "# testing through mean squared error\n",
    "mae = mean_absolute_error(y_test, predicted)"
   ]
  },
  {
   "cell_type": "code",
   "execution_count": 20,
   "metadata": {},
   "outputs": [
    {
     "name": "stdout",
     "output_type": "stream",
     "text": [
      "Mean absolute error: 3.5752473745549436\n"
     ]
    }
   ],
   "source": [
    "print('Mean absolute error: {}'.format(mae))"
   ]
  },
  {
   "cell_type": "markdown",
   "metadata": {},
   "source": [
    "# POLYNOMIAL REGRESSION"
   ]
  },
  {
   "cell_type": "code",
   "execution_count": 21,
   "metadata": {},
   "outputs": [],
   "source": [
    "poly = PolynomialFeatures(2)"
   ]
  },
  {
   "cell_type": "code",
   "execution_count": 22,
   "metadata": {},
   "outputs": [],
   "source": [
    "# transforming our sets\n",
    "X_train = poly.fit_transform(X_train)\n",
    "X_test = poly.fit_transform(X_test)"
   ]
  },
  {
   "cell_type": "code",
   "execution_count": 23,
   "metadata": {},
   "outputs": [
    {
     "name": "stdout",
     "output_type": "stream",
     "text": [
      "(1449, 276)\n",
      "(622, 276)\n"
     ]
    }
   ],
   "source": [
    "print(X_train.shape)\n",
    "print(X_test.shape)"
   ]
  },
  {
   "cell_type": "code",
   "execution_count": 24,
   "metadata": {},
   "outputs": [
    {
     "name": "stdout",
     "output_type": "stream",
     "text": [
      "(1449,)\n",
      "(622,)\n"
     ]
    }
   ],
   "source": [
    "print(y_train.shape)\n",
    "print(y_test.shape)"
   ]
  },
  {
   "cell_type": "markdown",
   "metadata": {},
   "source": [
    "# Simple model"
   ]
  },
  {
   "cell_type": "code",
   "execution_count": 25,
   "metadata": {},
   "outputs": [
    {
     "data": {
      "text/plain": [
       "LinearRegression(copy_X=True, fit_intercept=True, n_jobs=None, normalize=False)"
      ]
     },
     "execution_count": 25,
     "metadata": {},
     "output_type": "execute_result"
    }
   ],
   "source": [
    "polymodel = linear_model.LinearRegression()\n",
    "polymodel.fit(X_train, y_train)"
   ]
  },
  {
   "cell_type": "code",
   "execution_count": 26,
   "metadata": {},
   "outputs": [
    {
     "name": "stdout",
     "output_type": "stream",
     "text": [
      "Training score: 0.9047819148884483\n",
      "Test score: 0.5648712221848406\n"
     ]
    }
   ],
   "source": [
    "print('Training score: {}'.format(polymodel.score(X_train, y_train)))\n",
    "print('Test score: {}'.format(polymodel.score(X_test, y_test)))"
   ]
  },
  {
   "cell_type": "code",
   "execution_count": 27,
   "metadata": {},
   "outputs": [],
   "source": [
    "predicted = polymodel.predict(X_test)"
   ]
  },
  {
   "cell_type": "code",
   "execution_count": 28,
   "metadata": {},
   "outputs": [],
   "source": [
    "mae1 = mean_absolute_error(y_test, predicted)"
   ]
  },
  {
   "cell_type": "code",
   "execution_count": 29,
   "metadata": {},
   "outputs": [
    {
     "name": "stdout",
     "output_type": "stream",
     "text": [
      "Mean absolute error: 3.1412708785372914\n"
     ]
    }
   ],
   "source": [
    "print('Mean absolute error: {}'.format(mae1))"
   ]
  },
  {
   "cell_type": "markdown",
   "metadata": {},
   "source": [
    "# Applying L2 Regularisation using ridge model"
   ]
  },
  {
   "cell_type": "code",
   "execution_count": 30,
   "metadata": {},
   "outputs": [
    {
     "name": "stdout",
     "output_type": "stream",
     "text": [
      "Optimal regularization parameter for ridge model : 75\n"
     ]
    },
    {
     "data": {
      "image/png": "[encoded data removed]",
      "text/plain": [
       "<Figure size 576x432 with 1 Axes>"
      ]
     },
     "metadata": {
      "needs_background": "light"
     },
     "output_type": "display_data"
    }
   ],
   "source": [
    "# generating and identifying best alpha\n",
    "\n",
    "alphas = [0.001,0.01,1,10,20,25,26,27,28,29,30,31,32,33,34,35,40,50,60,70,72,74,75,76,80,85,90,100,1000,100000]\n",
    "model = linear_model.Ridge(fit_intercept=True)\n",
    "train_errors = list()\n",
    "test_errors = list()\n",
    "for alpha in alphas:\n",
    "    model.set_params(alpha=alpha)\n",
    "    model.fit(X_train, y_train)\n",
    "    # adding scores to compare later\n",
    "    train_errors.append(model.score(X_train, y_train))\n",
    "    test_errors.append(model.score(X_test, y_test))\n",
    "\n",
    "maxAccuracy = np.argmax(test_errors)\n",
    "bestAlpha = alphas[maxAccuracy]\n",
    "\n",
    "# Plotting data\n",
    "plt.figure(figsize=(8,6))\n",
    "plt.semilogx(alphas, train_errors, label='Train', color='red')\n",
    "plt.semilogx(alphas, test_errors, label='Test', color='blue')\n",
    "plt.vlines(bestAlpha, plt.ylim()[0], np.max(test_errors), color='k',\n",
    "           linewidth=3, label='Optimum on test')\n",
    "plt.legend(loc='upper right')\n",
    "plt.ylim([0, 1.0])\n",
    "plt.xlabel('Regularization parameter (Alpha)')\n",
    "plt.ylabel('Performance on test data')\n",
    "\n",
    "print(\"Optimal regularization parameter for ridge model : %s\" % bestAlpha)"
   ]
  },
  {
   "cell_type": "code",
   "execution_count": 31,
   "metadata": {},
   "outputs": [
    {
     "data": {
      "text/plain": [
       "Ridge(alpha=75, copy_X=True, fit_intercept=True, max_iter=None, normalize=False,\n",
       "      random_state=None, solver='auto', tol=0.001)"
      ]
     },
     "execution_count": 31,
     "metadata": {},
     "output_type": "execute_result"
    }
   ],
   "source": [
    "# using alpha as 27 which is the best find\n",
    "\n",
    "ridgemodel = linear_model.Ridge(alpha=75, fit_intercept=True)\n",
    "ridgemodel.fit(X_train, y_train)"
   ]
  },
  {
   "cell_type": "code",
   "execution_count": 32,
   "metadata": {},
   "outputs": [
    {
     "name": "stdout",
     "output_type": "stream",
     "text": [
      "Training score: 0.8841565485365511\n",
      "Test score: 0.8355169350261873\n"
     ]
    }
   ],
   "source": [
    "print('Training score: {}'.format(ridgemodel.score(X_train, y_train)))\n",
    "print('Test score: {}'.format(ridgemodel.score(X_test, y_test)))"
   ]
  },
  {
   "cell_type": "code",
   "execution_count": 33,
   "metadata": {},
   "outputs": [],
   "source": [
    "predicted = ridgemodel.predict(X_test)"
   ]
  },
  {
   "cell_type": "code",
   "execution_count": 34,
   "metadata": {},
   "outputs": [],
   "source": [
    "mae2 = mean_absolute_error(y_test, predicted)"
   ]
  },
  {
   "cell_type": "code",
   "execution_count": 35,
   "metadata": {},
   "outputs": [
    {
     "name": "stdout",
     "output_type": "stream",
     "text": [
      "Mean absolute error: 2.749649391143768\n"
     ]
    }
   ],
   "source": [
    "print('Mean absolute error: {}'.format(mae2))"
   ]
  },
  {
   "cell_type": "markdown",
   "metadata": {},
   "source": [
    "# Applying L1 Regularisation Lasso model"
   ]
  },
  {
   "cell_type": "code",
   "execution_count": 36,
   "metadata": {},
   "outputs": [
    {
     "name": "stderr",
     "output_type": "stream",
     "text": [
      "/Users/syedhaider/opt/anaconda3/lib/python3.7/site-packages/sklearn/linear_model/_coordinate_descent.py:476: ConvergenceWarning: Objective did not converge. You might want to increase the number of iterations. Duality gap: 6676.837078118146, tolerance: 13.586788422360248\n",
      "  positive)\n",
      "/Users/syedhaider/opt/anaconda3/lib/python3.7/site-packages/sklearn/linear_model/_coordinate_descent.py:476: ConvergenceWarning: Objective did not converge. You might want to increase the number of iterations. Duality gap: 917.190125648518, tolerance: 13.586788422360248\n",
      "  positive)\n",
      "/Users/syedhaider/opt/anaconda3/lib/python3.7/site-packages/sklearn/linear_model/_coordinate_descent.py:476: ConvergenceWarning: Objective did not converge. You might want to increase the number of iterations. Duality gap: 43.786944218452845, tolerance: 13.586788422360248\n",
      "  positive)\n",
      "/Users/syedhaider/opt/anaconda3/lib/python3.7/site-packages/sklearn/linear_model/_coordinate_descent.py:476: ConvergenceWarning: Objective did not converge. You might want to increase the number of iterations. Duality gap: 21.549584375869017, tolerance: 13.586788422360248\n",
      "  positive)\n"
     ]
    },
    {
     "name": "stdout",
     "output_type": "stream",
     "text": [
      "Optimal regularization parameter for Lasso model : 0.04\n"
     ]
    },
    {
     "data": {
      "image/png": "[encoded data removed]",
      "text/plain": [
       "<Figure size 576x432 with 1 Axes>"
      ]
     },
     "metadata": {
      "needs_background": "light"
     },
     "output_type": "display_data"
    }
   ],
   "source": [
    "# generating and identifying best alpha\n",
    "\n",
    "alphas = [0.001,0.01,0.02,0.024,0.025,0.026,0.027,0.03,0.035,0.04,0.045,0.1,1,10,20,30,40,50,100,1000]\n",
    "model = linear_model.Lasso(fit_intercept=True)\n",
    "train_errors = list()\n",
    "test_errors = list()\n",
    "for alpha in alphas:\n",
    "    model.set_params(alpha=alpha)\n",
    "    model.fit(X_train, y_train)\n",
    "    # adding scores to compare later\n",
    "    train_errors.append(model.score(X_train, y_train))\n",
    "    test_errors.append(model.score(X_test, y_test))\n",
    "\n",
    "maxAccuracy = np.argmax(test_errors)\n",
    "bestAlpha = alphas[maxAccuracy]\n",
    "\n",
    "# Plotting data\n",
    "plt.figure(figsize=(8,6))\n",
    "plt.semilogx(alphas, train_errors, label='Train', color='red')\n",
    "plt.semilogx(alphas, test_errors, label='Test', color='blue')\n",
    "plt.vlines(bestAlpha, plt.ylim()[0], np.max(test_errors), color='k',\n",
    "           linewidth=3, label='Optimum on test')\n",
    "plt.legend(loc='upper right')\n",
    "plt.ylim([0, 1.0])\n",
    "plt.xlabel('Regularization parameter (Alpha)')\n",
    "plt.ylabel('Performance on test data')\n",
    "\n",
    "print(\"Optimal regularization parameter for Lasso model : %s\" % bestAlpha)"
   ]
  },
  {
   "cell_type": "code",
   "execution_count": 37,
   "metadata": {},
   "outputs": [
    {
     "data": {
      "text/plain": [
       "Lasso(alpha=0.04, copy_X=True, fit_intercept=True, max_iter=1000,\n",
       "      normalize=False, positive=False, precompute=False, random_state=None,\n",
       "      selection='cyclic', tol=0.0001, warm_start=False)"
      ]
     },
     "execution_count": 37,
     "metadata": {},
     "output_type": "execute_result"
    }
   ],
   "source": [
    "# using alpha 0.026 as best parameter identified by our graph\n",
    "\n",
    "lassomodel = linear_model.Lasso(alpha=0.04, fit_intercept=True)\n",
    "lassomodel.fit(X_train, y_train)"
   ]
  },
  {
   "cell_type": "code",
   "execution_count": 38,
   "metadata": {},
   "outputs": [
    {
     "name": "stdout",
     "output_type": "stream",
     "text": [
      "Training score: 0.8806634684245571\n",
      "Test score: 0.8501837882788352\n"
     ]
    }
   ],
   "source": [
    "print('Training score: {}'.format(lassomodel.score(X_train, y_train)))\n",
    "print('Test score: {}'.format(lassomodel.score(X_test, y_test)))"
   ]
  },
  {
   "cell_type": "code",
   "execution_count": 39,
   "metadata": {},
   "outputs": [],
   "source": [
    "predicted = lassomodel.predict(X_test)"
   ]
  },
  {
   "cell_type": "code",
   "execution_count": 40,
   "metadata": {},
   "outputs": [],
   "source": [
    "mae3 = mean_absolute_error(y_test, predicted)"
   ]
  },
  {
   "cell_type": "code",
   "execution_count": 41,
   "metadata": {},
   "outputs": [
    {
     "name": "stdout",
     "output_type": "stream",
     "text": [
      "Mean absolute error: 2.628834285034522\n"
     ]
    }
   ],
   "source": [
    "print('Mean absolute error: {}'.format(mae3))"
   ]
  },
  {
   "cell_type": "markdown",
   "metadata": {},
   "source": [
    "# Predicting test data values using our best model and generating file"
   ]
  },
  {
   "cell_type": "code",
   "execution_count": 42,
   "metadata": {},
   "outputs": [],
   "source": [
    "# loading test and train data provided\n",
    "TrainData = pd.read_csv(\"dataset/train.csv\")\n",
    "TestData = pd.read_csv(\"dataset/test.csv\")"
   ]
  },
  {
   "cell_type": "code",
   "execution_count": 43,
   "metadata": {},
   "outputs": [],
   "source": [
    "# removing IDs\n",
    "TrainData = TrainData.iloc[:,1:]\n",
    "TestData = TestData.iloc[:,1:]"
   ]
  },
  {
   "cell_type": "code",
   "execution_count": 44,
   "metadata": {},
   "outputs": [],
   "source": [
    "# removing Y from X\n",
    "TrainXdata = TrainData.iloc[:,1:]\n",
    "TrainYdata = TrainData['TARGET_LifeExpectancy']"
   ]
  },
  {
   "cell_type": "code",
   "execution_count": 45,
   "metadata": {},
   "outputs": [
    {
     "name": "stdout",
     "output_type": "stream",
     "text": [
      "(2071, 22)\n",
      "(2071, 22)\n",
      "(867, 22)\n"
     ]
    }
   ],
   "source": [
    "print(TrainXdata.shape)\n",
    "print(TrainXdata.shape)\n",
    "print(TestData.shape)"
   ]
  },
  {
   "cell_type": "code",
   "execution_count": 46,
   "metadata": {},
   "outputs": [],
   "source": [
    "standard_scaler = preprocessing.StandardScaler()\n",
    "TrainXdata = standard_scaler.fit_transform(TrainXdata)\n",
    "TestData = standard_scaler.transform(TestData)"
   ]
  },
  {
   "cell_type": "code",
   "execution_count": 47,
   "metadata": {},
   "outputs": [],
   "source": [
    "poly = PolynomialFeatures(2)"
   ]
  },
  {
   "cell_type": "code",
   "execution_count": 48,
   "metadata": {},
   "outputs": [],
   "source": [
    "TrainXdata = poly.fit_transform(TrainXdata)\n",
    "TestData = poly.fit_transform(TestData)"
   ]
  },
  {
   "cell_type": "code",
   "execution_count": 49,
   "metadata": {},
   "outputs": [
    {
     "name": "stderr",
     "output_type": "stream",
     "text": [
      "/Users/syedhaider/opt/anaconda3/lib/python3.7/site-packages/sklearn/linear_model/_coordinate_descent.py:476: ConvergenceWarning: Objective did not converge. You might want to increase the number of iterations. Duality gap: 99.76525263450458, tolerance: 18.612127386769675\n",
      "  positive)\n"
     ]
    },
    {
     "data": {
      "text/plain": [
       "Lasso(alpha=0.04, copy_X=True, fit_intercept=True, max_iter=1000,\n",
       "      normalize=False, positive=False, precompute=False, random_state=None,\n",
       "      selection='cyclic', tol=0.0001, warm_start=False)"
      ]
     },
     "execution_count": 49,
     "metadata": {},
     "output_type": "execute_result"
    }
   ],
   "source": [
    "lassomodel = linear_model.Lasso(alpha=0.04, fit_intercept=True)\n",
    "lassomodel.fit(TrainXdata, TrainYdata)"
   ]
  },
  {
   "cell_type": "code",
   "execution_count": 50,
   "metadata": {},
   "outputs": [],
   "source": [
    "TestPredicted = lassomodel.predict(TestData)"
   ]
  },
  {
   "cell_type": "code",
   "execution_count": 51,
   "metadata": {},
   "outputs": [
    {
     "data": {
      "text/plain": [
       "array([59.30969583, 57.42849701, 57.24062634, 57.06198077, 56.94875492,\n",
       "       56.12732448, 56.23456608, 55.61103443, 55.84699586, 54.17043945,\n",
       "       54.00287012, 58.60432661, 58.37555663, 56.87397798, 58.99460671,\n",
       "       58.63225103, 81.02091528, 82.22003005, 81.45617192, 81.36020754,\n",
       "       81.14380378, 80.95797392, 80.77416523, 80.58621726, 80.11939156,\n",
       "       79.96814502, 79.42842015, 81.23589928, 80.9254848 , 78.77098516,\n",
       "       78.62974342, 80.05074295, 77.60449109, 79.41111902, 79.44421092,\n",
       "       78.89029322, 79.54798301, 77.74891938, 77.65704221, 78.94232048,\n",
       "       78.72092446, 76.21917679, 77.64014131, 77.20071963, 75.73133015,\n",
       "       76.84597994, 75.24314496, 74.00057453, 76.44104934, 77.7167582 ,\n",
       "       75.88318104, 75.92535735, 75.89241645, 75.70009511, 76.74094095,\n",
       "       76.1547449 , 75.31284142, 75.01991943, 74.60021721, 74.38665164,\n",
       "       73.68290634, 75.5187152 , 73.42131778, 75.1160393 , 71.45123719,\n",
       "       71.5894157 , 71.03786696, 71.04913849, 70.43757631, 73.25192535,\n",
       "       72.51017528, 68.96990111, 68.39157643, 68.02243563, 67.82626915,\n",
       "       67.14956208, 70.25058904, 66.78421223, 66.32870235, 65.82135403,\n",
       "       74.98540842, 75.17880921, 75.14283627, 74.8981949 , 74.3648129 ,\n",
       "       75.09944775, 74.78953798, 74.13911222, 74.17671633, 73.27203025,\n",
       "       71.12242166, 71.77099619, 71.27444833, 69.99591587, 70.67827373,\n",
       "       65.18244116, 56.29738783, 63.4121646 , 56.82336772, 55.50199385,\n",
       "       54.04516904, 54.58145185, 54.06761027, 52.27361479, 52.17602898,\n",
       "       51.66686019, 50.93438437, 50.0687496 , 48.89513588, 48.64923296,\n",
       "       50.4998391 , 49.87811383, 67.89389267, 67.83961368, 66.32554593,\n",
       "       66.86952231, 67.46317019, 66.18089599, 66.64814519, 66.06790416,\n",
       "       65.74704238, 63.03395738, 63.04338789, 62.28759682, 59.95589594,\n",
       "       58.3172567 , 57.44186954, 57.5436403 , 59.4232099 , 57.57884072,\n",
       "       57.90899569, 57.31332591, 57.7782841 , 63.36270652, 57.35108961,\n",
       "       56.47013636, 55.37496677, 55.04292415, 55.86715539, 53.45914682,\n",
       "       53.11216941, 57.49077462, 55.40281115, 51.48515666, 81.6758152 ,\n",
       "       78.21127491, 81.20320925, 81.35599942, 78.15569464, 81.24507097,\n",
       "       80.79091791, 80.10343498, 82.01409537, 80.15892026, 80.05845377,\n",
       "       81.49336834, 80.8903868 , 78.64697972, 78.59262261, 77.8739933 ,\n",
       "       55.72756378, 55.38906231, 55.11933289, 55.61112295, 55.5014257 ,\n",
       "       54.35179101, 54.66143117, 53.41848287, 55.10508298, 54.512508  ,\n",
       "       55.55270149, 55.02375084, 54.67703475, 49.75841853, 48.850538  ,\n",
       "       50.24740776, 74.32893091, 74.23081176, 73.52072709, 73.2201431 ,\n",
       "       73.3944783 , 72.79621794, 72.47909882, 72.31198513, 71.31367642,\n",
       "       70.74804951, 70.07157226, 68.11915898, 67.51846184, 66.87664887,\n",
       "       66.48377376, 66.04405281, 73.83152036, 75.72569225, 73.5721879 ,\n",
       "       73.73712657, 73.00916744, 73.62309982, 73.87585722, 72.90856187,\n",
       "       72.65623882, 72.29856812, 71.68793296, 71.41246937, 72.10190351,\n",
       "       70.639038  , 70.95257808, 70.17857036, 66.56030747, 75.43267166,\n",
       "       77.66677433, 75.85739309, 75.86043021, 73.54541849, 73.44661219,\n",
       "       76.89436934, 74.13921141, 73.56103635, 74.46907232, 74.08503067,\n",
       "       73.10457454, 72.48107712, 72.82318635, 72.95403275, 71.84765934,\n",
       "       60.38832704, 61.64889095, 60.53968758, 60.37407788, 64.15379264,\n",
       "       63.25330629, 62.27106808, 61.28460474, 62.32500004, 61.3869467 ,\n",
       "       62.578916  , 57.74641796, 57.11020469, 57.79364153, 59.70955313,\n",
       "       57.54239803, 63.2524688 , 62.56013987, 62.15827749, 61.94351431,\n",
       "       61.68794161, 61.06303482, 60.77251076, 60.40066025, 58.90589058,\n",
       "       55.93268162, 55.66310708, 56.47395467, 56.29595329, 55.37859538,\n",
       "       54.7114546 , 54.77200251, 71.66432321, 73.72961734, 71.33594017,\n",
       "       71.44067679, 71.10335833, 73.63000675, 73.71490882, 73.41407184,\n",
       "       73.3949839 , 70.66758534, 70.50028847, 70.12362112, 72.5437986 ,\n",
       "       72.39837037, 69.73966572, 68.24333498, 80.81393423, 80.61037553,\n",
       "       80.61913192, 80.5554542 , 80.61871767, 80.6086502 , 80.25461698,\n",
       "       80.33707761, 80.75075065, 79.71501873, 80.03715316, 78.53489144,\n",
       "       78.2294775 , 77.39144016, 78.03891572, 76.34768897, 67.5368791 ,\n",
       "       68.56294968, 69.00262066, 69.70773053, 69.09052298, 69.21300894,\n",
       "       68.83644275, 69.99644656, 68.12054979, 68.81337539, 68.28102819,\n",
       "       68.00285665, 67.3857311 , 66.80795812, 65.76898474, 63.48637644,\n",
       "       61.22326474, 60.25072917, 59.8942078 , 59.47129814, 59.59049984,\n",
       "       58.97715235, 58.13748517, 57.89402011, 58.93628274, 57.05523899,\n",
       "       57.0013552 , 57.98233081, 55.51381475, 56.60181451, 59.30127685,\n",
       "       58.21157666, 69.6264286 , 69.6281944 , 69.75551824, 72.1565203 ,\n",
       "       68.81210661, 69.03861842, 69.07033399, 68.64458307, 67.43620547,\n",
       "       69.75405888, 66.49116672, 66.00767648, 66.01363357, 65.32793349,\n",
       "       65.29771199, 64.64069243, 76.32540572, 76.36721428, 76.40128081,\n",
       "       75.61808029, 75.12174069, 74.59443332, 74.24014628, 73.59876235,\n",
       "       73.08073447, 72.6461421 , 72.18747507, 72.5504475 , 72.37091036,\n",
       "       72.39623562, 71.77999675, 72.02461713, 80.41085828, 80.95907646,\n",
       "       80.8190667 , 80.65763158, 80.33267863, 79.71050332, 79.69120183,\n",
       "       79.57262285, 79.27498026, 79.11372386, 79.97483229, 80.06541989,\n",
       "       78.88208775, 79.5232567 , 77.94815746, 77.63791965, 71.57648104,\n",
       "       71.56655843, 70.26763885, 70.9600486 , 70.24110595, 68.7932164 ,\n",
       "       70.91558262, 69.03318082, 68.49093131, 67.9464389 , 68.56792865,\n",
       "       68.90710553, 68.45464109, 68.57787337, 68.091406  , 67.49537031,\n",
       "       51.23835587, 47.41299888, 47.51430764, 47.01257389, 60.64139275,\n",
       "       47.46694302, 45.61212605, 46.49133938, 45.05789852, 46.29748255,\n",
       "       44.87065582, 48.40945678, 48.63384076, 47.48463592, 47.65579567,\n",
       "       47.57565752, 63.37826579, 62.26763974, 64.86657314, 63.49733529,\n",
       "       63.08693492, 62.86103891, 62.65545904, 62.27578566, 62.28388165,\n",
       "       62.13377469, 61.52271408, 61.71023496, 61.34649043, 59.96419576,\n",
       "       59.71528374, 58.03962294, 81.4475144 , 81.64079773, 81.36184688,\n",
       "       81.2109294 , 80.93676637, 79.62340476, 79.46534848, 79.37401478,\n",
       "       79.18068511, 78.99896708, 79.59947583, 79.00674783, 79.02672809,\n",
       "       78.89680089, 78.5009883 , 78.16973277, 75.43295849, 75.54344329,\n",
       "       75.70477295, 75.28908866, 74.63171891, 73.69943434, 73.63334924,\n",
       "       73.83326264, 73.46667849, 73.16947535, 72.64263281, 72.45807272,\n",
       "       72.05630482, 70.85314273, 70.69776166, 70.11858604, 66.26241457,\n",
       "       76.04863554, 76.15543657, 76.36665441, 76.36956935, 76.81342669,\n",
       "       76.48717197, 76.16358987, 75.85369951, 75.11083057, 74.90510327,\n",
       "       73.53726968, 73.19542317, 57.39279099, 57.58262782, 57.18432514,\n",
       "       57.64036317, 66.52983625, 67.30063005, 66.05069953, 66.44149097,\n",
       "       64.90895179, 64.1344783 , 64.43326426, 62.29254701, 64.53131992,\n",
       "       64.35666387, 63.87388422, 63.87155233, 63.14003908, 62.68846346,\n",
       "       62.17232005, 62.37667655, 82.07439305, 81.4580884 , 83.04808306,\n",
       "       84.03896619, 79.92359015, 79.70979712, 79.36729578, 81.74381718,\n",
       "       81.43568774, 80.9454961 , 80.64170564, 80.53787016, 80.7278888 ,\n",
       "       79.8674869 , 79.39481875, 78.99425997, 82.44750661, 82.90549823,\n",
       "       82.376277  , 83.22301597, 82.14223491, 81.95086853, 82.02948863,\n",
       "       80.61389699, 81.13080278, 81.01818531, 80.75126189, 80.53237296,\n",
       "       79.06474215, 78.28944527, 80.43935547, 80.06466035, 75.94759772,\n",
       "       76.41530472, 76.62797847, 76.6913081 , 76.5006151 , 76.57745176,\n",
       "       75.96532491, 74.97035717, 74.7875853 , 74.58552517, 74.56584959,\n",
       "       74.02837543, 73.66497565, 73.27640204, 72.96654432, 67.35387819,\n",
       "       73.03328036, 71.44432965, 73.0454342 , 71.69656626, 73.55690847,\n",
       "       72.38208861, 71.88774621, 71.92399477, 72.10776334, 72.06618887,\n",
       "       71.93996856, 71.21593151, 70.92693502, 69.45724732, 71.3184025 ,\n",
       "       69.72597404, 77.11186906, 78.28401083, 80.04381634, 76.95163423,\n",
       "       76.45925762, 77.84606098, 76.04884648, 77.16234823, 75.12409802,\n",
       "       74.94095655, 75.01759473, 74.85596825, 74.58956065, 74.70037482,\n",
       "       74.32438313, 73.58474912, 76.35034302, 77.82258651, 75.91711611,\n",
       "       77.16126813, 76.68197775, 75.7864715 , 76.94115097, 77.31582024,\n",
       "       75.70116716, 75.82922818, 76.95058509, 76.57659356, 76.12333776,\n",
       "       74.79079473, 74.6731939 , 76.88626302, 76.58001419, 76.74338849,\n",
       "       74.72916565, 74.44982257, 73.91050961, 73.9013622 , 73.00532167,\n",
       "       72.0047394 , 72.5049769 , 72.95750471, 72.78752547, 71.70850347,\n",
       "       71.52291175, 70.73706546, 70.42650097, 70.0987237 , 76.21186516,\n",
       "       73.09531851, 74.03647093, 73.35270794, 73.69623106, 74.82506449,\n",
       "       73.13130634, 73.04426336, 72.62692964, 73.86941086, 71.99093776,\n",
       "       71.46756964, 71.43602967, 71.00457139, 70.86897421, 70.4862707 ,\n",
       "       68.13534552, 72.73971094, 71.87400867, 71.62814412, 71.14420439,\n",
       "       74.16669811, 72.09408181, 71.92736296, 73.03726622, 70.70386912,\n",
       "       69.91996678, 71.59269868, 71.70577229, 70.32847418, 69.90809553,\n",
       "       69.63205104, 70.65320987, 77.49038526, 74.60536097, 74.96912878,\n",
       "       76.40012231, 76.2010235 , 74.58440734, 75.87030984, 74.08941225,\n",
       "       73.85401333, 74.77209562, 74.58180877, 73.82743838, 73.18713775,\n",
       "       73.34108184, 72.91392477, 72.65935379, 73.66933711, 75.23411209,\n",
       "       74.14364238, 73.82193658, 72.73384088, 74.64254343, 72.58832265,\n",
       "       72.50191723, 72.08097705, 71.72416527, 71.40804035, 71.23164674,\n",
       "       71.52117201, 70.38009133, 71.06590018, 70.22372917, 80.69741565,\n",
       "       79.81821657, 79.70419288, 79.56475012, 79.21946304, 79.05227819,\n",
       "       78.4844549 , 77.90002185, 79.14942771, 77.47163006, 76.97478819,\n",
       "       77.01994717, 76.48364721, 75.87741523, 75.78795316, 75.0979953 ,\n",
       "       66.40439224, 66.19039037, 66.48707968, 66.50024904, 66.9236567 ,\n",
       "       66.58249507, 66.61236356, 66.07361361, 64.27775032, 65.97763925,\n",
       "       64.78853801, 63.4661583 , 62.08249344, 62.82296031, 62.85871906,\n",
       "       62.9834569 , 58.71054608, 58.40622479, 58.453756  , 57.93033351,\n",
       "       58.33570022, 57.78807943, 57.90708404, 58.99638832, 58.78475838,\n",
       "       55.95290922, 58.09635194, 59.5868912 , 59.31225805, 59.13858003,\n",
       "       57.40291025, 57.23793687, 63.11134894, 60.9938838 , 59.77032496,\n",
       "       65.22162807, 56.002366  , 54.70872493, 53.9888729 , 58.08746531,\n",
       "       52.88205939, 52.29395469, 52.10174796, 53.4806917 , 54.49678312,\n",
       "       56.18467313, 53.63520051, 54.41751042, 78.28404837, 78.05488841,\n",
       "       77.92845665, 77.67729524, 77.08500183, 77.89641956, 76.85956762,\n",
       "       77.14097303, 77.34386495, 77.20852643, 77.14047627, 75.80061703,\n",
       "       76.75562687, 76.81087593, 76.71487492, 75.9257713 , 67.51422569,\n",
       "       66.53336561, 66.2441544 , 66.06617905, 66.94010376, 63.67905731,\n",
       "       65.22953714, 65.35584767, 64.92985072, 64.74579664, 63.68275636,\n",
       "       63.08455114, 62.54923353, 62.04536402, 61.91613955, 61.37384886,\n",
       "       65.80635433, 64.41976581, 70.90839467, 69.28599748, 70.36977362,\n",
       "       71.02081536, 70.98315571, 69.48543554, 70.71264831, 70.59421186,\n",
       "       70.18097358, 68.48083589, 68.30332772, 68.13251488, 67.77503651,\n",
       "       67.73429828, 70.23735524, 69.87540429, 69.87105064, 69.62391257,\n",
       "       69.55554082, 69.19195467, 68.85966436, 68.09088924, 67.69129824,\n",
       "       67.09503409, 66.76851664, 66.94575496, 66.46597326, 66.04844294,\n",
       "       65.77061656, 65.38339664, 74.05841745, 74.28525381, 71.40325097,\n",
       "       71.14609169, 72.08999096, 71.43237956, 71.09116379, 71.27423148,\n",
       "       72.55504382, 72.2842703 , 74.04343939, 73.81712377, 73.47343724,\n",
       "       70.57447125, 70.48525044, 70.04833125, 74.23882698, 74.59854144,\n",
       "       74.62456451, 74.50510678, 74.50578507, 74.30792591, 74.39173442,\n",
       "       74.1191881 , 73.99792805, 73.85430954, 73.48803941, 72.99881736,\n",
       "       72.05199104, 72.49268468, 72.1884845 , 71.77116071, 62.76478958,\n",
       "       63.38088083, 59.01335847, 58.15322794, 58.17026452, 55.91347364,\n",
       "       55.67231742, 60.36766068, 59.25242166, 58.31944983, 49.6640763 ,\n",
       "       46.15727251, 56.99024928, 42.49798003, 40.64358408, 40.00624065,\n",
       "       76.93258442, 76.85244653, 76.59527975, 76.49079385, 76.45062694,\n",
       "       76.40501649, 77.40995717, 76.78530669, 75.36551669, 75.55104375,\n",
       "       75.2750841 , 74.85705456, 74.08536336, 74.11069573, 74.14939555,\n",
       "       74.35429661, 60.06445682, 58.71314818, 56.50250633, 54.11901929,\n",
       "       51.89603938, 47.39881048, 42.56881314, 39.72384319, 50.1580744 ,\n",
       "       42.6948014 , 36.60982526, 38.0534733 , 40.3264124 , 47.05697697,\n",
       "       48.58740933, 50.28371096])"
      ]
     },
     "execution_count": 51,
     "metadata": {},
     "output_type": "execute_result"
    }
   ],
   "source": [
    "TestPredicted"
   ]
  },
  {
   "cell_type": "code",
   "execution_count": 52,
   "metadata": {},
   "outputs": [],
   "source": [
    "submission_file = pd.read_csv('dataset/sample_solution.csv')"
   ]
  },
  {
   "cell_type": "code",
   "execution_count": 53,
   "metadata": {},
   "outputs": [],
   "source": [
    "submission_file['TARGET_LifeExpectancy'] = TestPredicted"
   ]
  },
  {
   "cell_type": "code",
   "execution_count": 54,
   "metadata": {},
   "outputs": [],
   "source": [
    "submission_file.to_csv('s3796258.csv', index = False)"
   ]
  },
  {
   "cell_type": "code",
   "execution_count": null,
   "metadata": {},
   "outputs": [],
   "source": []
  }
 ],
 "metadata": {
  "kernelspec": {
   "display_name": "Python 3",
   "language": "python",
   "name": "python3"
  },
  "language_info": {
   "codemirror_mode": {
    "name": "ipython",
    "version": 3
   },
   "file_extension": ".py",
   "mimetype": "text/x-python",
   "name": "python",
   "nbconvert_exporter": "python",
   "pygments_lexer": "ipython3",
   "version": "3.7.6"
  }
 },
 "nbformat": 4,
 "nbformat_minor": 4
}
